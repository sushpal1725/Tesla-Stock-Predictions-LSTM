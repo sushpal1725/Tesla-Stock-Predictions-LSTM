{
 "cells": [
  {
   "cell_type": "code",
   "execution_count": 92,
   "metadata": {},
   "outputs": [],
   "source": [
    "import pandas_datareader as pdr\n",
    "import pandas as pd\n",
    "import matplotlib.pyplot as plt\n",
    "import numpy as np\n",
    "from numpy import array\n",
    "from sklearn.preprocessing import MinMaxScaler\n",
    "from tensorflow.keras.models import Sequential\n",
    "from tensorflow.keras.layers import Dense\n",
    "from tensorflow.keras.layers import LSTM\n",
    "from tensorflow.keras.layers import Dropout\n",
    "import tensorflow as tf\n",
    "import math\n",
    "from sklearn.metrics import mean_squared_error"
   ]
  },
  {
   "cell_type": "code",
   "execution_count": 93,
   "metadata": {},
   "outputs": [],
   "source": [
    "key=\"ae85c4e6a01eab6fa176c2dab99e679ae40a27a7\""
   ]
  },
  {
   "cell_type": "code",
   "execution_count": 94,
   "metadata": {},
   "outputs": [],
   "source": [
    "df = pdr.get_data_tiingo('TSLA', api_key=key)\n",
    "df.to_csv('TSLA.csv')\n",
    "df= pd.read_csv('TSLA.csv')"
   ]
  },
  {
   "cell_type": "code",
   "execution_count": 95,
   "metadata": {},
   "outputs": [
    {
     "data": {
      "text/html": [
       "<div>\n",
       "<style scoped>\n",
       "    .dataframe tbody tr th:only-of-type {\n",
       "        vertical-align: middle;\n",
       "    }\n",
       "\n",
       "    .dataframe tbody tr th {\n",
       "        vertical-align: top;\n",
       "    }\n",
       "\n",
       "    .dataframe thead th {\n",
       "        text-align: right;\n",
       "    }\n",
       "</style>\n",
       "<table border=\"1\" class=\"dataframe\">\n",
       "  <thead>\n",
       "    <tr style=\"text-align: right;\">\n",
       "      <th></th>\n",
       "      <th>symbol</th>\n",
       "      <th>date</th>\n",
       "      <th>close</th>\n",
       "      <th>high</th>\n",
       "      <th>low</th>\n",
       "      <th>open</th>\n",
       "      <th>volume</th>\n",
       "      <th>adjClose</th>\n",
       "      <th>adjHigh</th>\n",
       "      <th>adjLow</th>\n",
       "      <th>adjOpen</th>\n",
       "      <th>adjVolume</th>\n",
       "      <th>divCash</th>\n",
       "      <th>splitFactor</th>\n",
       "    </tr>\n",
       "  </thead>\n",
       "  <tbody>\n",
       "    <tr>\n",
       "      <th>0</th>\n",
       "      <td>TSLA</td>\n",
       "      <td>2015-08-31 00:00:00+00:00</td>\n",
       "      <td>249.06</td>\n",
       "      <td>254.95</td>\n",
       "      <td>245.51</td>\n",
       "      <td>245.77</td>\n",
       "      <td>4700232</td>\n",
       "      <td>249.06</td>\n",
       "      <td>254.95</td>\n",
       "      <td>245.51</td>\n",
       "      <td>245.77</td>\n",
       "      <td>4700232</td>\n",
       "      <td>0.0</td>\n",
       "      <td>1.0</td>\n",
       "    </tr>\n",
       "    <tr>\n",
       "      <th>1</th>\n",
       "      <td>TSLA</td>\n",
       "      <td>2015-09-01 00:00:00+00:00</td>\n",
       "      <td>238.63</td>\n",
       "      <td>246.00</td>\n",
       "      <td>236.97</td>\n",
       "      <td>240.34</td>\n",
       "      <td>5454765</td>\n",
       "      <td>238.63</td>\n",
       "      <td>246.00</td>\n",
       "      <td>236.97</td>\n",
       "      <td>240.34</td>\n",
       "      <td>5454765</td>\n",
       "      <td>0.0</td>\n",
       "      <td>1.0</td>\n",
       "    </tr>\n",
       "    <tr>\n",
       "      <th>2</th>\n",
       "      <td>TSLA</td>\n",
       "      <td>2015-09-02 00:00:00+00:00</td>\n",
       "      <td>247.69</td>\n",
       "      <td>247.88</td>\n",
       "      <td>239.78</td>\n",
       "      <td>245.14</td>\n",
       "      <td>4629174</td>\n",
       "      <td>247.69</td>\n",
       "      <td>247.88</td>\n",
       "      <td>239.78</td>\n",
       "      <td>245.14</td>\n",
       "      <td>4629174</td>\n",
       "      <td>0.0</td>\n",
       "      <td>1.0</td>\n",
       "    </tr>\n",
       "    <tr>\n",
       "      <th>3</th>\n",
       "      <td>TSLA</td>\n",
       "      <td>2015-09-03 00:00:00+00:00</td>\n",
       "      <td>245.57</td>\n",
       "      <td>252.08</td>\n",
       "      <td>245.00</td>\n",
       "      <td>252.06</td>\n",
       "      <td>4194772</td>\n",
       "      <td>245.57</td>\n",
       "      <td>252.08</td>\n",
       "      <td>245.00</td>\n",
       "      <td>252.06</td>\n",
       "      <td>4194772</td>\n",
       "      <td>0.0</td>\n",
       "      <td>1.0</td>\n",
       "    </tr>\n",
       "    <tr>\n",
       "      <th>4</th>\n",
       "      <td>TSLA</td>\n",
       "      <td>2015-09-04 00:00:00+00:00</td>\n",
       "      <td>241.93</td>\n",
       "      <td>244.09</td>\n",
       "      <td>238.20</td>\n",
       "      <td>240.89</td>\n",
       "      <td>3689153</td>\n",
       "      <td>241.93</td>\n",
       "      <td>244.09</td>\n",
       "      <td>238.20</td>\n",
       "      <td>240.89</td>\n",
       "      <td>3689153</td>\n",
       "      <td>0.0</td>\n",
       "      <td>1.0</td>\n",
       "    </tr>\n",
       "  </tbody>\n",
       "</table>\n",
       "</div>"
      ],
      "text/plain": [
       "  symbol                       date   close    high     low    open   volume  \\\n",
       "0   TSLA  2015-08-31 00:00:00+00:00  249.06  254.95  245.51  245.77  4700232   \n",
       "1   TSLA  2015-09-01 00:00:00+00:00  238.63  246.00  236.97  240.34  5454765   \n",
       "2   TSLA  2015-09-02 00:00:00+00:00  247.69  247.88  239.78  245.14  4629174   \n",
       "3   TSLA  2015-09-03 00:00:00+00:00  245.57  252.08  245.00  252.06  4194772   \n",
       "4   TSLA  2015-09-04 00:00:00+00:00  241.93  244.09  238.20  240.89  3689153   \n",
       "\n",
       "   adjClose  adjHigh  adjLow  adjOpen  adjVolume  divCash  splitFactor  \n",
       "0    249.06   254.95  245.51   245.77    4700232      0.0          1.0  \n",
       "1    238.63   246.00  236.97   240.34    5454765      0.0          1.0  \n",
       "2    247.69   247.88  239.78   245.14    4629174      0.0          1.0  \n",
       "3    245.57   252.08  245.00   252.06    4194772      0.0          1.0  \n",
       "4    241.93   244.09  238.20   240.89    3689153      0.0          1.0  "
      ]
     },
     "execution_count": 95,
     "metadata": {},
     "output_type": "execute_result"
    }
   ],
   "source": [
    "df.head()"
   ]
  },
  {
   "cell_type": "code",
   "execution_count": 96,
   "metadata": {},
   "outputs": [],
   "source": [
    "data_training = df[df['date']<'2019-01-01'].copy()"
   ]
  },
  {
   "cell_type": "code",
   "execution_count": 97,
   "metadata": {},
   "outputs": [],
   "source": [
    "data_test = df[df['date']>='2019-01-01'].copy()"
   ]
  },
  {
   "cell_type": "code",
   "execution_count": 98,
   "metadata": {},
   "outputs": [],
   "source": [
    "data_training = data_training[['close','high','low','volume','splitFactor']]"
   ]
  },
  {
   "cell_type": "code",
   "execution_count": 99,
   "metadata": {},
   "outputs": [
    {
     "data": {
      "text/html": [
       "<div>\n",
       "<style scoped>\n",
       "    .dataframe tbody tr th:only-of-type {\n",
       "        vertical-align: middle;\n",
       "    }\n",
       "\n",
       "    .dataframe tbody tr th {\n",
       "        vertical-align: top;\n",
       "    }\n",
       "\n",
       "    .dataframe thead th {\n",
       "        text-align: right;\n",
       "    }\n",
       "</style>\n",
       "<table border=\"1\" class=\"dataframe\">\n",
       "  <thead>\n",
       "    <tr style=\"text-align: right;\">\n",
       "      <th></th>\n",
       "      <th>close</th>\n",
       "      <th>high</th>\n",
       "      <th>low</th>\n",
       "      <th>volume</th>\n",
       "      <th>splitFactor</th>\n",
       "    </tr>\n",
       "  </thead>\n",
       "  <tbody>\n",
       "    <tr>\n",
       "      <th>0</th>\n",
       "      <td>249.06</td>\n",
       "      <td>254.9500</td>\n",
       "      <td>245.510</td>\n",
       "      <td>4700232</td>\n",
       "      <td>1.0</td>\n",
       "    </tr>\n",
       "    <tr>\n",
       "      <th>1</th>\n",
       "      <td>238.63</td>\n",
       "      <td>246.0000</td>\n",
       "      <td>236.970</td>\n",
       "      <td>5454765</td>\n",
       "      <td>1.0</td>\n",
       "    </tr>\n",
       "    <tr>\n",
       "      <th>2</th>\n",
       "      <td>247.69</td>\n",
       "      <td>247.8800</td>\n",
       "      <td>239.780</td>\n",
       "      <td>4629174</td>\n",
       "      <td>1.0</td>\n",
       "    </tr>\n",
       "    <tr>\n",
       "      <th>3</th>\n",
       "      <td>245.57</td>\n",
       "      <td>252.0800</td>\n",
       "      <td>245.000</td>\n",
       "      <td>4194772</td>\n",
       "      <td>1.0</td>\n",
       "    </tr>\n",
       "    <tr>\n",
       "      <th>4</th>\n",
       "      <td>241.93</td>\n",
       "      <td>244.0900</td>\n",
       "      <td>238.200</td>\n",
       "      <td>3689153</td>\n",
       "      <td>1.0</td>\n",
       "    </tr>\n",
       "    <tr>\n",
       "      <th>...</th>\n",
       "      <td>...</td>\n",
       "      <td>...</td>\n",
       "      <td>...</td>\n",
       "      <td>...</td>\n",
       "      <td>...</td>\n",
       "    </tr>\n",
       "    <tr>\n",
       "      <th>835</th>\n",
       "      <td>295.39</td>\n",
       "      <td>314.5000</td>\n",
       "      <td>295.195</td>\n",
       "      <td>5559913</td>\n",
       "      <td>1.0</td>\n",
       "    </tr>\n",
       "    <tr>\n",
       "      <th>836</th>\n",
       "      <td>326.09</td>\n",
       "      <td>326.9700</td>\n",
       "      <td>294.090</td>\n",
       "      <td>8163138</td>\n",
       "      <td>1.0</td>\n",
       "    </tr>\n",
       "    <tr>\n",
       "      <th>837</th>\n",
       "      <td>316.13</td>\n",
       "      <td>322.1717</td>\n",
       "      <td>301.500</td>\n",
       "      <td>8575133</td>\n",
       "      <td>1.0</td>\n",
       "    </tr>\n",
       "    <tr>\n",
       "      <th>838</th>\n",
       "      <td>333.87</td>\n",
       "      <td>336.2400</td>\n",
       "      <td>318.410</td>\n",
       "      <td>9938992</td>\n",
       "      <td>1.0</td>\n",
       "    </tr>\n",
       "    <tr>\n",
       "      <th>839</th>\n",
       "      <td>332.80</td>\n",
       "      <td>339.2100</td>\n",
       "      <td>325.260</td>\n",
       "      <td>6302338</td>\n",
       "      <td>1.0</td>\n",
       "    </tr>\n",
       "  </tbody>\n",
       "</table>\n",
       "<p>840 rows × 5 columns</p>\n",
       "</div>"
      ],
      "text/plain": [
       "      close      high      low   volume  splitFactor\n",
       "0    249.06  254.9500  245.510  4700232          1.0\n",
       "1    238.63  246.0000  236.970  5454765          1.0\n",
       "2    247.69  247.8800  239.780  4629174          1.0\n",
       "3    245.57  252.0800  245.000  4194772          1.0\n",
       "4    241.93  244.0900  238.200  3689153          1.0\n",
       "..      ...       ...      ...      ...          ...\n",
       "835  295.39  314.5000  295.195  5559913          1.0\n",
       "836  326.09  326.9700  294.090  8163138          1.0\n",
       "837  316.13  322.1717  301.500  8575133          1.0\n",
       "838  333.87  336.2400  318.410  9938992          1.0\n",
       "839  332.80  339.2100  325.260  6302338          1.0\n",
       "\n",
       "[840 rows x 5 columns]"
      ]
     },
     "execution_count": 99,
     "metadata": {},
     "output_type": "execute_result"
    }
   ],
   "source": [
    "data_training"
   ]
  },
  {
   "cell_type": "code",
   "execution_count": 101,
   "metadata": {},
   "outputs": [],
   "source": [
    "data_test = data_test[['close','high','low','volume','splitFactor']]"
   ]
  },
  {
   "cell_type": "code",
   "execution_count": 102,
   "metadata": {},
   "outputs": [
    {
     "data": {
      "text/html": [
       "<div>\n",
       "<style scoped>\n",
       "    .dataframe tbody tr th:only-of-type {\n",
       "        vertical-align: middle;\n",
       "    }\n",
       "\n",
       "    .dataframe tbody tr th {\n",
       "        vertical-align: top;\n",
       "    }\n",
       "\n",
       "    .dataframe thead th {\n",
       "        text-align: right;\n",
       "    }\n",
       "</style>\n",
       "<table border=\"1\" class=\"dataframe\">\n",
       "  <thead>\n",
       "    <tr style=\"text-align: right;\">\n",
       "      <th></th>\n",
       "      <th>close</th>\n",
       "      <th>high</th>\n",
       "      <th>low</th>\n",
       "      <th>volume</th>\n",
       "      <th>splitFactor</th>\n",
       "    </tr>\n",
       "  </thead>\n",
       "  <tbody>\n",
       "    <tr>\n",
       "      <th>840</th>\n",
       "      <td>310.12</td>\n",
       "      <td>315.13</td>\n",
       "      <td>298.8000</td>\n",
       "      <td>11658648</td>\n",
       "      <td>1.0</td>\n",
       "    </tr>\n",
       "    <tr>\n",
       "      <th>841</th>\n",
       "      <td>300.36</td>\n",
       "      <td>309.40</td>\n",
       "      <td>297.3800</td>\n",
       "      <td>6965184</td>\n",
       "      <td>1.0</td>\n",
       "    </tr>\n",
       "    <tr>\n",
       "      <th>842</th>\n",
       "      <td>317.69</td>\n",
       "      <td>318.00</td>\n",
       "      <td>302.7300</td>\n",
       "      <td>7394116</td>\n",
       "      <td>1.0</td>\n",
       "    </tr>\n",
       "    <tr>\n",
       "      <th>843</th>\n",
       "      <td>334.96</td>\n",
       "      <td>336.74</td>\n",
       "      <td>317.7508</td>\n",
       "      <td>7551225</td>\n",
       "      <td>1.0</td>\n",
       "    </tr>\n",
       "    <tr>\n",
       "      <th>844</th>\n",
       "      <td>335.35</td>\n",
       "      <td>344.01</td>\n",
       "      <td>327.0200</td>\n",
       "      <td>7008516</td>\n",
       "      <td>1.0</td>\n",
       "    </tr>\n",
       "    <tr>\n",
       "      <th>...</th>\n",
       "      <td>...</td>\n",
       "      <td>...</td>\n",
       "      <td>...</td>\n",
       "      <td>...</td>\n",
       "      <td>...</td>\n",
       "    </tr>\n",
       "    <tr>\n",
       "      <th>1252</th>\n",
       "      <td>2001.83</td>\n",
       "      <td>2021.99</td>\n",
       "      <td>1857.0600</td>\n",
       "      <td>20611796</td>\n",
       "      <td>1.0</td>\n",
       "    </tr>\n",
       "    <tr>\n",
       "      <th>1253</th>\n",
       "      <td>2049.98</td>\n",
       "      <td>2095.49</td>\n",
       "      <td>2025.0500</td>\n",
       "      <td>21489559</td>\n",
       "      <td>1.0</td>\n",
       "    </tr>\n",
       "    <tr>\n",
       "      <th>1254</th>\n",
       "      <td>2014.20</td>\n",
       "      <td>2129.00</td>\n",
       "      <td>1927.5200</td>\n",
       "      <td>20063621</td>\n",
       "      <td>1.0</td>\n",
       "    </tr>\n",
       "    <tr>\n",
       "      <th>1255</th>\n",
       "      <td>2023.34</td>\n",
       "      <td>2027.95</td>\n",
       "      <td>1968.0000</td>\n",
       "      <td>10658893</td>\n",
       "      <td>1.0</td>\n",
       "    </tr>\n",
       "    <tr>\n",
       "      <th>1256</th>\n",
       "      <td>2153.17</td>\n",
       "      <td>2166.00</td>\n",
       "      <td>2053.6291</td>\n",
       "      <td>14239382</td>\n",
       "      <td>1.0</td>\n",
       "    </tr>\n",
       "  </tbody>\n",
       "</table>\n",
       "<p>417 rows × 5 columns</p>\n",
       "</div>"
      ],
      "text/plain": [
       "        close     high        low    volume  splitFactor\n",
       "840    310.12   315.13   298.8000  11658648          1.0\n",
       "841    300.36   309.40   297.3800   6965184          1.0\n",
       "842    317.69   318.00   302.7300   7394116          1.0\n",
       "843    334.96   336.74   317.7508   7551225          1.0\n",
       "844    335.35   344.01   327.0200   7008516          1.0\n",
       "...       ...      ...        ...       ...          ...\n",
       "1252  2001.83  2021.99  1857.0600  20611796          1.0\n",
       "1253  2049.98  2095.49  2025.0500  21489559          1.0\n",
       "1254  2014.20  2129.00  1927.5200  20063621          1.0\n",
       "1255  2023.34  2027.95  1968.0000  10658893          1.0\n",
       "1256  2153.17  2166.00  2053.6291  14239382          1.0\n",
       "\n",
       "[417 rows x 5 columns]"
      ]
     },
     "execution_count": 102,
     "metadata": {},
     "output_type": "execute_result"
    }
   ],
   "source": [
    "data_test"
   ]
  },
  {
   "cell_type": "code",
   "execution_count": 103,
   "metadata": {},
   "outputs": [],
   "source": [
    "scaler =MinMaxScaler()\n",
    "data_training =scaler.fit_transform(data_training)\n",
    "data_test =scaler.fit_transform(data_test)"
   ]
  },
  {
   "cell_type": "code",
   "execution_count": 106,
   "metadata": {},
   "outputs": [],
   "source": [
    "x_train = []\n",
    "y_train = []\n",
    "x_test = []\n",
    "y_test = []"
   ]
  },
  {
   "cell_type": "code",
   "execution_count": 107,
   "metadata": {},
   "outputs": [],
   "source": [
    "for i in range(60, data_training.shape[0]):\n",
    "    x_train.append(data_training[i-60:i])\n",
    "    y_train.append(data_training[i,0])\n",
    "for i in range(60, data_test.shape[0]):   \n",
    "    x_test.append(data_test[i-60:i])\n",
    "    y_test.append(data_test[i,0])"
   ]
  },
  {
   "cell_type": "code",
   "execution_count": 108,
   "metadata": {},
   "outputs": [],
   "source": [
    "x_train, y_train = np.array(x_train), np.array(y_train)\n",
    "x_test, y_test = np.array(x_test), np.array(y_test)"
   ]
  },
  {
   "cell_type": "code",
   "execution_count": 109,
   "metadata": {},
   "outputs": [],
   "source": [
    "model=Sequential()\n",
    "\n",
    "model.add(LSTM(units=60, activation = 'relu',return_sequences=True, input_shape= (x_train.shape[1],5)))\n",
    "          \n",
    "model.add(LSTM(units=60, activation = 'relu', return_sequences = True))\n",
    "          \n",
    "model.add(LSTM(units=40, activation = 'relu',return_sequences = True))\n",
    "       \n",
    "model.add(LSTM(units=40, activation = 'relu',return_sequences = False))\n",
    "     \n",
    "model.add(Dense(units = 1))\n",
    "          "
   ]
  },
  {
   "cell_type": "code",
   "execution_count": 110,
   "metadata": {},
   "outputs": [],
   "source": [
    "model.compile(loss='mean_squared_error',optimizer='adam', metrics=['accuracy'])"
   ]
  },
  {
   "cell_type": "code",
   "execution_count": 111,
   "metadata": {},
   "outputs": [
    {
     "name": "stdout",
     "output_type": "stream",
     "text": [
      "Epoch 1/50\n",
      "112/112 [==============================] - 6s 52ms/step - loss: 0.0535 - accuracy: 0.0013\n",
      "Epoch 2/50\n",
      "112/112 [==============================] - 6s 51ms/step - loss: 0.0108 - accuracy: 0.0026\n",
      "Epoch 3/50\n",
      "112/112 [==============================] - 6s 53ms/step - loss: 0.0092 - accuracy: 0.0026\n",
      "Epoch 4/50\n",
      "112/112 [==============================] - 6s 56ms/step - loss: 0.0095 - accuracy: 0.0026\n",
      "Epoch 5/50\n",
      "112/112 [==============================] - 7s 59ms/step - loss: 0.0071 - accuracy: 0.0026\n",
      "Epoch 6/50\n",
      "112/112 [==============================] - 10s 87ms/step - loss: 0.0064 - accuracy: 0.0026\n",
      "Epoch 7/50\n",
      "112/112 [==============================] - 10s 87ms/step - loss: 0.0050 - accuracy: 0.0026\n",
      "Epoch 8/50\n",
      "112/112 [==============================] - 9s 77ms/step - loss: 0.0051 - accuracy: 0.0026\n",
      "Epoch 9/50\n",
      "112/112 [==============================] - 10s 87ms/step - loss: 0.0049 - accuracy: 0.0026\n",
      "Epoch 10/50\n",
      "112/112 [==============================] - 10s 87ms/step - loss: 0.0036 - accuracy: 0.0026\n",
      "Epoch 11/50\n",
      "112/112 [==============================] - 8s 71ms/step - loss: 0.0036 - accuracy: 0.0026\n",
      "Epoch 12/50\n",
      "112/112 [==============================] - 8s 71ms/step - loss: 0.0036 - accuracy: 0.0026\n",
      "Epoch 13/50\n",
      "112/112 [==============================] - 10s 87ms/step - loss: 0.0031 - accuracy: 0.0026\n",
      "Epoch 14/50\n",
      "112/112 [==============================] - 12s 106ms/step - loss: 0.0026 - accuracy: 0.0026\n",
      "Epoch 15/50\n",
      "112/112 [==============================] - 10s 91ms/step - loss: 0.0024 - accuracy: 0.0026\n",
      "Epoch 16/50\n",
      "112/112 [==============================] - 11s 99ms/step - loss: 0.0022 - accuracy: 0.0026\n",
      "Epoch 17/50\n",
      "112/112 [==============================] - 10s 89ms/step - loss: 0.0024 - accuracy: 0.0026\n",
      "Epoch 18/50\n",
      "112/112 [==============================] - 9s 82ms/step - loss: 0.0023 - accuracy: 0.0026\n",
      "Epoch 19/50\n",
      "112/112 [==============================] - 10s 87ms/step - loss: 0.0021 - accuracy: 0.0026\n",
      "Epoch 20/50\n",
      "112/112 [==============================] - 10s 85ms/step - loss: 0.0019 - accuracy: 0.0026\n",
      "Epoch 21/50\n",
      "112/112 [==============================] - 9s 82ms/step - loss: 0.0020 - accuracy: 0.0026\n",
      "Epoch 22/50\n",
      "112/112 [==============================] - 10s 88ms/step - loss: 0.0020 - accuracy: 0.0026\n",
      "Epoch 23/50\n",
      "112/112 [==============================] - 10s 88ms/step - loss: 0.0017 - accuracy: 0.0026\n",
      "Epoch 24/50\n",
      "112/112 [==============================] - 9s 80ms/step - loss: 0.0017 - accuracy: 0.0026\n",
      "Epoch 25/50\n",
      "112/112 [==============================] - 9s 77ms/step - loss: 0.0016 - accuracy: 0.0026\n",
      "Epoch 26/50\n",
      "112/112 [==============================] - 9s 80ms/step - loss: 0.0020 - accuracy: 0.0026\n",
      "Epoch 27/50\n",
      "112/112 [==============================] - 9s 82ms/step - loss: 0.0016 - accuracy: 0.0026\n",
      "Epoch 28/50\n",
      "112/112 [==============================] - 9s 84ms/step - loss: 0.0018 - accuracy: 0.0026\n",
      "Epoch 29/50\n",
      "112/112 [==============================] - 11s 102ms/step - loss: 0.0017 - accuracy: 0.0026\n",
      "Epoch 30/50\n",
      "112/112 [==============================] - 10s 91ms/step - loss: 0.0015 - accuracy: 0.0026\n",
      "Epoch 31/50\n",
      "112/112 [==============================] - 9s 83ms/step - loss: 0.0017 - accuracy: 0.0026\n",
      "Epoch 32/50\n",
      "112/112 [==============================] - 10s 90ms/step - loss: 0.0017 - accuracy: 0.0026\n",
      "Epoch 33/50\n",
      "112/112 [==============================] - 11s 94ms/step - loss: 0.0014 - accuracy: 0.0026\n",
      "Epoch 34/50\n",
      "112/112 [==============================] - 11s 102ms/step - loss: 0.0015 - accuracy: 0.0026\n",
      "Epoch 35/50\n",
      "112/112 [==============================] - 12s 106ms/step - loss: 0.0016 - accuracy: 0.0026\n",
      "Epoch 36/50\n",
      "112/112 [==============================] - 11s 97ms/step - loss: 0.0020 - accuracy: 0.0026\n",
      "Epoch 37/50\n",
      "112/112 [==============================] - 10s 89ms/step - loss: 0.0018 - accuracy: 0.0026\n",
      "Epoch 38/50\n",
      "112/112 [==============================] - 10s 90ms/step - loss: 0.0014 - accuracy: 0.0026\n",
      "Epoch 39/50\n",
      "112/112 [==============================] - 11s 98ms/step - loss: 0.0015 - accuracy: 0.0026\n",
      "Epoch 40/50\n",
      "112/112 [==============================] - 10s 91ms/step - loss: 0.0016 - accuracy: 0.0026\n",
      "Epoch 41/50\n",
      "112/112 [==============================] - 10s 93ms/step - loss: 0.0017 - accuracy: 0.0026\n",
      "Epoch 42/50\n",
      "112/112 [==============================] - 11s 94ms/step - loss: 0.0017 - accuracy: 0.0026\n",
      "Epoch 43/50\n",
      "112/112 [==============================] - 10s 93ms/step - loss: 0.0016 - accuracy: 0.0026\n",
      "Epoch 44/50\n",
      "112/112 [==============================] - 10s 89ms/step - loss: 0.0015 - accuracy: 0.0026\n",
      "Epoch 45/50\n",
      "112/112 [==============================] - 10s 90ms/step - loss: 0.0015 - accuracy: 0.0026\n",
      "Epoch 46/50\n",
      "112/112 [==============================] - 10s 87ms/step - loss: 0.0015 - accuracy: 0.0026\n",
      "Epoch 47/50\n",
      "112/112 [==============================] - 9s 82ms/step - loss: 0.0014 - accuracy: 0.0026\n",
      "Epoch 48/50\n",
      "112/112 [==============================] - 9s 84ms/step - loss: 0.0016 - accuracy: 0.0026\n",
      "Epoch 49/50\n",
      "112/112 [==============================] - 10s 85ms/step - loss: 0.0016 - accuracy: 0.0026\n",
      "Epoch 50/50\n",
      "112/112 [==============================] - 9s 84ms/step - loss: 0.0022 - accuracy: 0.0026\n"
     ]
    },
    {
     "data": {
      "text/plain": [
       "<tensorflow.python.keras.callbacks.History at 0x7fecf8b193a0>"
      ]
     },
     "execution_count": 111,
     "metadata": {},
     "output_type": "execute_result"
    }
   ],
   "source": [
    "model.fit(x_train,y_train,epochs=50,batch_size=7)"
   ]
  },
  {
   "cell_type": "code",
   "execution_count": 112,
   "metadata": {},
   "outputs": [
    {
     "name": "stdout",
     "output_type": "stream",
     "text": [
      "25/25 [==============================] - 1s 24ms/step - loss: 0.0012 - accuracy: 0.0026\n",
      "LSTM test accuracy: 0.0025641026441007853\n",
      "12/12 [==============================] - 0s 23ms/step - loss: 0.0010 - accuracy: 0.0056\n",
      "LSTM test accuracy: 0.005602241028100252\n"
     ]
    }
   ],
   "source": [
    "score = model.evaluate(x_train, y_train, batch_size=32)\n",
    "print ('LSTM test accuracy:', score[1])\n",
    "score = model.evaluate(x_test, y_test, batch_size=32)\n",
    "print ('LSTM test accuracy:', score[1])"
   ]
  },
  {
   "cell_type": "code",
   "execution_count": 113,
   "metadata": {},
   "outputs": [],
   "source": [
    "y_pred = model.predict(x_test)"
   ]
  },
  {
   "cell_type": "markdown",
   "metadata": {},
   "source": [
    "y_pred =y_pred*scale\n",
    "y_test =y_test*scale"
   ]
  },
  {
   "cell_type": "code",
   "execution_count": 114,
   "metadata": {},
   "outputs": [
    {
     "data": {
      "image/png": "[encoded data removed]",
      "text/plain": [
       "<Figure size 432x288 with 1 Axes>"
      ]
     },
     "metadata": {
      "needs_background": "light"
     },
     "output_type": "display_data"
    }
   ],
   "source": [
    "plt.plot(y_test, color= 'red', label ='original price')\n",
    "plt.plot(y_pred, color= 'green', label ='predicted price')\n",
    "plt.legend()\n",
    "plt.show()"
   ]
  },
  {
   "cell_type": "code",
   "execution_count": 120,
   "metadata": {},
   "outputs": [
    {
     "data": {
      "image/png": "[encoded data removed]",
      "text/plain": [
       "<Figure size 432x288 with 1 Axes>"
      ]
     },
     "metadata": {
      "needs_background": "light"
     },
     "output_type": "display_data"
    }
   ],
   "source": [
    "scaler = MinMaxScaler()\n",
    "scaler.fit(y_pred)\n",
    "y = scaler.inverse_transform(y_pred)\n",
    "plt.plot(y, color= 'green', label ='predicted price')\n",
    "plt.legend()\n",
    "plt.show()"
   ]
  },
  {
   "cell_type": "code",
   "execution_count": 121,
   "metadata": {},
   "outputs": [
    {
     "name": "stdout",
     "output_type": "stream",
     "text": [
      "Saved model to disk\n"
     ]
    }
   ],
   "source": [
    "model.save(\"model.h5\")\n",
    "print(\"Saved model to disk\")"
   ]
  },
  {
   "cell_type": "code",
   "execution_count": null,
   "metadata": {},
   "outputs": [],
   "source": []
  }
 ],
 "metadata": {
  "kernelspec": {
   "display_name": "Python 3",
   "language": "python",
   "name": "python3"
  },
  "language_info": {
   "codemirror_mode": {
    "name": "ipython",
    "version": 3
   },
   "file_extension": ".py",
   "mimetype": "text/x-python",
   "name": "python",
   "nbconvert_exporter": "python",
   "pygments_lexer": "ipython3",
   "version": "3.8.5"
  }
 },
 "nbformat": 4,
 "nbformat_minor": 2
}
